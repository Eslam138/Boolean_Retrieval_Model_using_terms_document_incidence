{
  "nbformat": 4,
  "nbformat_minor": 0,
  "metadata": {
    "colab": {
      "name": "Boolean Retrieval Model.ipynb",
      "private_outputs": true,
      "provenance": []
    },
    "kernelspec": {
      "name": "python3",
      "display_name": "Python 3"
    },
    "language_info": {
      "name": "python"
    }
  },
  "cells": [
    {
      "cell_type": "code",
      "execution_count": null,
      "metadata": {
        "id": "1oGW4sIpq8ba"
      },
      "outputs": [],
      "source": [
        "d0 = \"English tutorial and fast track\"\n",
        "d1 = \"Book on semantic analysis\"\n",
        "d2 =\"Learning latent semantic indexing\"\n",
        "d3 = \"Advance in structure and semantic indexing\"\n",
        "d4 = \"Analysis of latent structure\"\n",
        "collection = {\"doc0\": d0,\n",
        "         \"doc1\": d1, \n",
        "         \"doc2\": d2, \n",
        "         \"doc3\": d3,\n",
        "         \"doc4\": d4}\n",
        "collection"
      ]
    },
    {
      "cell_type": "code",
      "source": [
        "#list of terms\n",
        "def get_terms(data):\n",
        "        terms=[]\n",
        "        for doc in data:\n",
        "            for term in data[doc].split() :\n",
        "                terms.append(term)\n",
        "        return terms\n",
        "\n",
        "   #list of unique terms\n",
        "def get_unique_terms(terms):\n",
        "        unique_terms=[]\n",
        "        for d in terms :\n",
        "            if d not in unique_terms:\n",
        "               unique_terms.append(d)\n",
        "        return unique_terms\n",
        "\n",
        "  #document collection terms\n",
        "def get_document_collection_terms(data):\n",
        "        docs_colllection={}\n",
        "        for doc in data:\n",
        "            if doc not in boolean_operators :\n",
        "                docs_colllection[doc]=get_unique_terms(data[doc].split())\n",
        "        return docs_colllection\n",
        "           \n",
        "def display_dict(dic):\n",
        "        print(\"\\n\")\n",
        "        for i in dic:\n",
        "            print (i , \" : \" ,dic[i])\n",
        "        print(\"\\n\")"
      ],
      "metadata": {
        "id": "nZbt-eLksCTW"
      },
      "execution_count": null,
      "outputs": []
    },
    {
      "cell_type": "code",
      "source": [
        "#print our collection\n",
        "print(\"### documents content ###\")\n",
        "display_dict(collection)"
      ],
      "metadata": {
        "id": "y-82EwdGsUZf"
      },
      "execution_count": null,
      "outputs": []
    },
    {
      "cell_type": "code",
      "source": [
        "print (\"\\n### Terms in 5 docs ###\\n\" , *get_terms(collection) ,sep= \" | \")\n"
      ],
      "metadata": {
        "id": "oVlX_n38r4At"
      },
      "execution_count": null,
      "outputs": []
    },
    {
      "cell_type": "code",
      "source": [
        "#print the unique_terms available in the collection\n",
        "terms=get_terms(collection)\n",
        "print (\"\\n### Unique Terms in 5 DOCs###\\n\", *get_unique_terms(terms) ,sep=\" | \")"
      ],
      "metadata": {
        "id": "AhIGrWu0sklH"
      },
      "execution_count": null,
      "outputs": []
    },
    {
      "cell_type": "code",
      "source": [
        "boolean_operators = {'AND', 'OR', 'NOT'}\n"
      ],
      "metadata": {
        "id": "Jk1dH47_tfHe"
      },
      "execution_count": null,
      "outputs": []
    },
    {
      "cell_type": "code",
      "source": [
        "#print the unique terms in each collection in a dictionary format\n",
        "print (\"\\n###Document terms Collection ###\" )\n",
        "display_dict(get_document_collection_terms(collection))"
      ],
      "metadata": {
        "id": "pXBWCQ16tT8n"
      },
      "execution_count": null,
      "outputs": []
    },
    {
      "cell_type": "code",
      "source": [
        "def term_document_incidence_matrix(collection):\n",
        "        ## list of terms from the data file collection\n",
        "        terms=get_terms(collection)\n",
        "        #list of unique terms\n",
        "        unique_terms=get_unique_terms(terms)\n",
        "        #Document collection terms\n",
        "        docs_terms=get_document_collection_terms(collection)\n",
        "        #TermDocumentIncidenceMatrix \n",
        "        term_docs_matrix={}\n",
        "        for term in unique_terms:\n",
        "            vector=[]\n",
        "            for c in docs_terms:\n",
        "\n",
        "                if term in docs_terms[c]:\n",
        "                    vector.append(1)\n",
        "                else :\n",
        "                    vector.append(0)\n",
        "\n",
        "            term_docs_matrix[term]=vector\n",
        "        return term_docs_matrix\n",
        "\n",
        "#this fucntion takes a term and a terms-document incidence matrix and returns the incidence vector of the term \n",
        "#this function just for explanation and display purposes   \n",
        "def term_incidence_vector(term,term_docs_incid_matrix):\n",
        "    try:\n",
        "     return term_docs_incid_matrix[term]\n",
        "    except:\n",
        "     return \"term not found\""
      ],
      "metadata": {
        "id": "DBMX4hcPsrcF"
      },
      "execution_count": null,
      "outputs": []
    },
    {
      "cell_type": "code",
      "source": [
        "#build the term-document incidence matrix\n",
        "term_docs_incid_matrix=term_document_incidence_matrix(collection)\n",
        "print(\"Term-Document incidence Matrix\\n\")\n",
        "#formatted Display \n",
        "display_dict(term_docs_incid_matrix)"
      ],
      "metadata": {
        "id": "QiPvQ6ers1eR"
      },
      "execution_count": null,
      "outputs": []
    },
    {
      "cell_type": "code",
      "source": [
        "def boolean_operator_processing(bool_operator,prevV,nextV):\n",
        "    if bool_operator == \"AND\":\n",
        "      return [a & b for a, b in zip(prevV, nextV)]\n",
        "    elif bool_operator==\"OR\" :\n",
        "      return [a | b for a, b in zip(prevV, nextV)]\n",
        "    elif bool_operator == \"NOT\":\n",
        "      return [1-a for a in prevV]\n"
      ],
      "metadata": {
        "id": "jsBCNuiZtl2s"
      },
      "execution_count": null,
      "outputs": []
    },
    {
      "cell_type": "code",
      "source": [
        "\n",
        "v1=term_incidence_vector('Analysis',term_docs_incid_matrix)\n",
        "v2=term_incidence_vector('structure',term_docs_incid_matrix)\n",
        "v3=[]\n",
        "print('v1',v1)\n",
        "print('v2',v2)"
      ],
      "metadata": {
        "id": "FK6o-3_4uRzt"
      },
      "execution_count": null,
      "outputs": []
    },
    {
      "cell_type": "code",
      "source": [
        "print(boolean_operator_processing(\"AND\",v1,v2))\n"
      ],
      "metadata": {
        "id": "ZtPpwehst2Sr"
      },
      "execution_count": null,
      "outputs": []
    },
    {
      "cell_type": "code",
      "source": [
        "print(boolean_operator_processing(\"OR\",v1,v2))"
      ],
      "metadata": {
        "id": "uI7nJlI6s59p"
      },
      "execution_count": null,
      "outputs": []
    },
    {
      "cell_type": "code",
      "source": [
        "print(boolean_operator_processing(\"NOT\",v1,v3))"
      ],
      "metadata": {
        "id": "K57ZfI-nxqqV"
      },
      "execution_count": null,
      "outputs": []
    },
    {
      "cell_type": "code",
      "source": [
        ""
      ],
      "metadata": {
        "id": "zrcYwHlEyOuT"
      },
      "execution_count": null,
      "outputs": []
    }
  ]
}